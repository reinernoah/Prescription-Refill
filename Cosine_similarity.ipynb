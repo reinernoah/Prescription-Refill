from scipy import spatial
import os
import matplotlib
import matplotlib.pyplot as plt
import numpy as np
import pandas as pd
import psycopg2
import seaborn as sns
import statsmodels.formula.api as smf
from sklearn.linear_model import LinearRegression
from sshtunnel import SSHTunnelForwarder
import re
import datetime
from sklearn.metrics.pairwise import cosine_similarity


### Open SSH Tunnel
server = SSHTunnelForwarder(
"data-gw.internal.grxweb.com",
ssh_private_key="~/.ssh/id_rsa",
ssh_username="rs_tunnel",
ssh_password="",
remote_bind_address=("data-rs.internal.grxweb.com", 5439),
)
server.start()


params = {
"database": "main",
"user": os.environ.get("DB_USER"),
"password": os.environ.get("DB_PASS"),
"host": "localhost",
"port": server.local_bind_port,
}
conn = psycopg2.connect(**params)

fills_class = pd.read_sql_query("""SELECT TO_CHAR(month_begin, 'YYYY-MM-DD') as dl_scratch
FROM research_scratch.dl_drug_fills
WHERE month_begin BETWEEN '2014-01-01' AND '2021-06-30'
AND tamiflu_exclusion = 0
AND vaccine_exclusion = 0
GROUP BY month_begin, drug_class_name""", conn).sort_values(by = "month_begin", "drug_id")

#These are the total fills for each drug class in 2019
ref_vec = fills_class[(fills_class["month_begin"]>='2019-01-01') & (fills_class["ref_cnt"])]
ref_vec

#These are the total fills for each drug class for every month starting in 2019
month_vec = fills_class[(fills_class["month_begin"] >= "2019")].groupby(["drug_class"])

pivot = month_vec.pivot(index='drug_class_name', columns='month_begin', values = 'cnt')
#combine df's so that the reference vector is also in the df of all counts by mo
test_df = ref_vec.merge(pivot, how = "inner", on = ["drug_class_name"])

cols = ['ref_cnt', '2019-01-01', '2019-02-01', '2019-03-01',
'2019-04-01', '2019-05-01', '2019-06-01', '2019-07-01', '2019-08-01',
'2019-09-01', '2019-10-01', '2019-11-01', '2019-12-01', '2020-01-01',
'2020-02-01', '2020-03-01', '2020-04-01', '2020-05-01', '2020-06-01',
'2020-07-01', '2020-08-01', '2020-09-01', '2020-10-01', '2020-11-01',
'2020-12-01', '2021-01-01', '2021-02-01', '2021-03-01', '2021-04-01',
'2021-05-01', '2021-06-01']

no_0 = test_df[~(test_df[cols] == 0).any(axis=1)]

##test for a random month April, 2020 versus the reference vector
ref_vector = no_0["ref_cnt"].to_numpy()
cosine_similarity([ref_vector], [no_0.loc[0:,"2020-07-01"].to_numpy()])


#Log of all counts
no_0[cols] = no_0[cols].apply(lambda x: np.log(x))

#Produce cosine similarity for 2019 sum vector versus all months in 2019, 2020,
ref_vector = no_0["ref_cnt"].to_numpy()

cos_list = []
def cos_sim():
	#for every month in 2020
	for i in range(1,32):
		month_vec = no_0.iloc[0:,i].to_numpy()
		#append cos_sim to list
		cos_list.append(cosine_similarity([ref_vector], [month_vec]))

	return cos_list

#turn the 3d list ^ into a regular list
def flatten(le_list):
	d2_list = []
	flat_list = []

	for sublist in le_list:
		for item in sublist:
			d2_list.append(item)

	for sublist in d2_list:
		for item in sublist:
			flat_list.append(item)
	return flat_list

cos_sim()


no_0.loc["cos_sim", "ref_cnt":] = flatten(cos_list) ## this is list of cosine similarities

figure, ax1 = plt.subplots(figsize=(12,12))
ax1.plot(no_0.loc["cos_sim","2019-01-01":], linewidth=0.5,zorder=1)
figure.autofmt_xdate()

#These are the total fills for each drug class for every month in 2019
month_ref_vec =fills_class[(fills_class["month_begin"]>='2019-01-01')].groupby(["drug_class"])

#turn each month to a column
month_ref_df = month_ref_vec.pivot(index='drug_class_name', columns='month_begin')

oth_mon = month_ref_vec.pivot(index='drug_class_name', columns='month_begin', values = 'cos_sim')
oth_mon = oth_mon[~(oth_mon[cols_month] == 0).any(axis=1)].reset_index()

df_2019 = oth_mon.loc[0:,"2019-01-01":"2019-12-01"]
df_2020 = oth_mon.loc[0:,"2020-01-01":"2020-12-01"]
df_2021 = oth_mon.loc[0:,"2021-01-01":"2021-06-01"]

#test similarity
cosine_similarity([[5,2,65,90]],[[15,2,65,90]

Cosine Similarity Influence by Drug Class
The goal of this function is to figure out an "influence" for the cosine similarity ie which drug
classes contribute most to dissimilarity between years.
The function calculates the cosine similarity of the sum of counts for every drug class for every
month (ie 2020-01), and compares the cosine similarity when switching the sum for the
corresponding month in 2019 (2019-01). The output is the indices of the drug classes with the
most influence and the lowest cos similarity scores

full_list = []
def min_cos(df, df_2):

	#across entire df
	for j in range(0, len(df_2.iloc[0:, 0:].columns)):
		the_list = []
		for i in range(0,len(df_2)):
			df_copy = df.copy() #make a copy so things don't get too cray

		#swap the values of 1st elements of the 2 vectors
			temp = df_copy.iloc[i,j]
			df_copy.iloc[i,j]= df_2.iloc[i,j]
			v = df_copy.iloc[0:,j].to_numpy()
			v_df = df.iloc[0:,j].to_numpy()
			normalized_copy = v/np.linalg.norm(v)
			normalized_df = v_df/np.linalg.norm(v_df)

			#calculate the cosine similarity of the two vectors
			a = cosine_similarity([normalized_copy], [normalized_df])
			
			the_list.append(a[0][0]) ##put every value on the list
			indices = np.argsort(np.array(the_list))[:10]
			
		the_list.sort()
		full_list.append(the_list[0:10])
		full_list.append(indices)
	return full_list

#put the above output into a dataframe
cos_2020 = pd.DataFrame(full_list, columns=[1, 2, 3, 4, 5 , 6, 7, 8, 9, 10]).set_index(index = ["month_begin"])

#switch the index with the corresponding drug class name
for j in range(0, 10):
	for i in range(0,24):
		if i%2 != 0:
			cos_2020.iloc[i,j] = oth_mon.loc[(cos_copy.iloc[i, j]), :]["drug_class"]


